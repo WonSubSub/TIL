{
 "cells": [
  {
   "cell_type": "code",
   "execution_count": null,
   "metadata": {},
   "outputs": [],
   "source": [
    "# 약수 (1037)\n",
    "\n",
    "n = int(input())\n",
    "divisors = list(map(int, input().split(' ')))\n",
    "\n",
    "print(sorted(divisors)[0] * sorted(divisors)[-1])"
   ]
  },
  {
   "cell_type": "code",
   "execution_count": null,
   "metadata": {},
   "outputs": [],
   "source": [
    "# 최대공약수와 최소공배수 (2609)\n",
    "\n",
    "n, v = map(int, input().split(' '))\n",
    "\n",
    "big = max(n,v)\n",
    "small = min(n,v)\n",
    "if big % small == 0:\n",
    "    print(small)\n",
    "    print(big)\n",
    "else:\n",
    "    for i in range(int(small/2), 0, -1):\n",
    "        if big % i == 0 and small % i == 0:\n",
    "            print(i)\n",
    "            print(int(big * small / i))\n",
    "            break"
   ]
  },
  {
   "cell_type": "code",
   "execution_count": null,
   "metadata": {},
   "outputs": [],
   "source": [
    "# 소수 찾기 (1978)\n",
    "\n",
    "n = int(input())\n",
    "numbers = list(map(int, input().split(' ')))\n",
    "\n",
    "count = 0\n",
    "\n",
    "for number in numbers:\n",
    "    if number == 1:\n",
    "        count += 1\n",
    "        continue\n",
    "    else:\n",
    "        for i in range(int(number/2), 1, -1):\n",
    "            if number % i == 0:\n",
    "                count += 1\n",
    "                break\n",
    "\n",
    "print(n - count)"
   ]
  },
  {
   "cell_type": "code",
   "execution_count": null,
   "metadata": {},
   "outputs": [],
   "source": [
    "# 일곱 난쟁이 (2309)\n",
    "\n",
    "count = 0\n",
    "numbers = []\n",
    "\n",
    "for i in range(9):\n",
    "    number = int(input())\n",
    "    numbers.append(number)\n",
    "    count += number\n",
    "\n",
    "numbers.sort()\n",
    "\n",
    "for i in range(9):\n",
    "    for a in range(i+1,9):\n",
    "        sum = numbers[i] + numbers[a]\n",
    "        if count - sum == 100:\n",
    "            numbers.pop(a)\n",
    "            numbers.pop(i)\n",
    "            break\n",
    "    if count - sum == 100:\n",
    "        break\n",
    "\n",
    "for i in numbers:\n",
    "    print(i)\n",
    "        "
   ]
  },
  {
   "cell_type": "code",
   "execution_count": 56,
   "metadata": {},
   "outputs": [
    {
     "name": "stdout",
     "output_type": "stream",
     "text": [
      "t\n",
      "j\n"
     ]
    }
   ],
   "source": [
    "# 생일 (5635)\n",
    "\n",
    "n = int(input())\n",
    "\n",
    "name = []\n",
    "day = []\n",
    "month = []\n",
    "year = []\n",
    "age_list = []\n",
    "\n",
    "for i in range(n):\n",
    "    student = input().split(' ')\n",
    "    name.append(student[0])\n",
    "    day.append(int(student[1]))\n",
    "    month.append(int(student[2]))\n",
    "    year.append(int(student[3]))\n",
    "\n",
    "def cal_age(year, month, day, index):\n",
    "    return (2022 - year[index]) * 365 + (12 - month[index]) * 30 + (31 - day[index])\n",
    "\n",
    "for i in range(n):\n",
    "    age = cal_age(year, month, day, i)\n",
    "    age_list.append(age)\n",
    "\n",
    "young_index = age_list.index(min(age_list))\n",
    "old_index = age_list.index(max(age_list))\n",
    "\n",
    "print(name[young_index])\n",
    "print(name[old_index])\n"
   ]
  },
  {
   "cell_type": "code",
   "execution_count": 65,
   "metadata": {},
   "outputs": [
    {
     "name": "stdout",
     "output_type": "stream",
     "text": [
      "75.0\n"
     ]
    }
   ],
   "source": [
    "# 평균 (1546)\n",
    "n = int(input())\n",
    "scores = list(map(int, input().split(' ')))\n",
    "\n",
    "new_scores = []\n",
    "max_score = max(scores)\n",
    "\n",
    "for score in scores:\n",
    "    new_score = (score/max_score) * 100\n",
    "    new_scores.append(new_score)\n",
    "\n",
    "def sum(scores):\n",
    "    sum = 0\n",
    "    for score in scores:\n",
    "        sum += score\n",
    "    return sum\n",
    "    \n",
    "print(sum(new_scores)/len(new_scores))"
   ]
  },
  {
   "cell_type": "code",
   "execution_count": 71,
   "metadata": {},
   "outputs": [
    {
     "name": "stdout",
     "output_type": "stream",
     "text": [
      "32\n"
     ]
    }
   ],
   "source": [
    "# ATM (11399)\n",
    "\n",
    "n = int(input())\n",
    "times = sorted(list(map(int, input().split(' '))))\n",
    "\n",
    "sum = 0\n",
    "\n",
    "for i in range(n):\n",
    "    for a in range(i+1):\n",
    "        sum += times[a]\n",
    "\n",
    "print(sum)"
   ]
  },
  {
   "cell_type": "code",
   "execution_count": 82,
   "metadata": {},
   "outputs": [
    {
     "name": "stdout",
     "output_type": "stream",
     "text": [
      "7\n"
     ]
    }
   ],
   "source": [
    "# 시험 감독 (13458)\n",
    "\n",
    "n = int(input())\n",
    "people = list(map(int, input().split(' ')))\n",
    "joo, boo = map(int, input().split(' '))\n",
    "\n",
    "count = 0\n",
    "\n",
    "new_people = []\n",
    "for i in people:\n",
    "    count += 1\n",
    "    new_people.append(i - joo)\n",
    "\n",
    "for i in new_people:\n",
    "    if i > 0:\n",
    "        if i % boo == 0:\n",
    "            count += i//boo\n",
    "        else:\n",
    "            count += i//boo + 1\n",
    "\n",
    "print(count)\n"
   ]
  },
  {
   "cell_type": "code",
   "execution_count": null,
   "metadata": {},
   "outputs": [],
   "source": [
    "# 직사각형 네개의 합집합의 면적 구하기 (2669)\n",
    "\n",
    "cordinates = []\n",
    "\n",
    "for i in range(4):\n",
    "    a, b, c, d = map(int, input().split(' '))\n",
    "    for first in range(a,c):\n",
    "        for second in range(b,d):\n",
    "            cordinates.append((first + 0.5, second + 0.5))\n",
    "\n",
    "print(len(set(cordinates)))"
   ]
  },
  {
   "cell_type": "code",
   "execution_count": 107,
   "metadata": {},
   "outputs": [
    {
     "name": "stdout",
     "output_type": "stream",
     "text": [
      "[0, 0, 0, 0, 0, 0, 0, 0, 0, 0]\n",
      "[0, 0, 0, 0, 0, 0, 0, 0, 0, 0]\n",
      "[0, 0, 0, 0, 0, 0, 0, 0, 0, 0]\n",
      "[0, 0, 0, 0, 0, 10, 0, 0, 0, 0]\n",
      "[0, 0, 0, 0, 10, 10, 0, 0, 0, 0]\n",
      "[0, 0, 0, 10, 10, 10, 0, 0, 0, 0]\n",
      "[0, 0, 10, 10, 10, 10, 0, 0, 0, 0]\n",
      "[0, 10, 10, 10, 10, 10, 0, 0, 0, 0]\n",
      "[20, 10, 10, 10, 10, 10, 0, 0, 0, 0]\n",
      "20\n"
     ]
    }
   ],
   "source": [
    "# 퇴사 (14501)\n",
    "\n",
    "n = int(input())\n",
    "times = []\n",
    "costs = []\n",
    "totals = [0] * (n)\n",
    "\n",
    "for i in range(n):\n",
    "    t, c = map(int, input().split(' '))\n",
    "    times.append(t)\n",
    "    costs.append(c)\n",
    "\n",
    "for i in range(n):\n",
    "    if times[i] > n - i:\n",
    "        times[i] = 0\n",
    "        costs[i] = 0\n",
    "\n",
    "if times[-1] == 1:\n",
    "    totals[-1] = costs[-1]\n",
    "\n",
    "def get_total(times, costs, i, totals):\n",
    "    temp_times = times\n",
    "    if temp_times[i] == 1:\n",
    "        totals[i] = totals[i+1] + costs[i]\n",
    "    elif temp_times[i] != 1:\n",
    "        time = temp_times[i]\n",
    "        if time == n - i:\n",
    "            totals[i] = costs[i]\n",
    "        else:\n",
    "            totals[i] = costs[i] + totals[i+time] \n",
    "        if totals[i] < totals[i+1]:\n",
    "            totals[i] = totals[i+1]\n",
    "    return totals\n",
    "\n",
    "\n",
    "for i in range(n-2,-1,-1):\n",
    "    totals = get_total(times, costs, i, totals)\n",
    "    # print(totals)\n",
    "ans = max(totals)\n",
    "\n",
    "print(ans)\n"
   ]
  },
  {
   "cell_type": "code",
   "execution_count": 135,
   "metadata": {},
   "outputs": [
    {
     "name": "stdout",
     "output_type": "stream",
     "text": [
      "0 0 1 0 0 0 1 1 0 1 1 0 1 1 0 1 1 0 1 1 0\n",
      "1 1 0 1 "
     ]
    }
   ],
   "source": [
    "# 스위치 켜고 끄기 (1244)\n",
    "\n",
    "n_switch = int(input())\n",
    "switches = list(map(int, input().split(' ')))\n",
    "n_student = int(input())\n",
    "\n",
    "def change_switch(switches, i):\n",
    "    if switches[i] == 1:\n",
    "        switches[i] = 0\n",
    "    else:\n",
    "        switches[i] = 1\n",
    "    return switches\n",
    "\n",
    "\n",
    "def change(sex, num, switches, n_switch):\n",
    "    if sex == 1:\n",
    "        for i in range(n_switch // num):\n",
    "            switches = change_switch(switches, (i+1)*num - 1)\n",
    "    if sex == 2:\n",
    "        switches = change_switch(switches, num - 1)\n",
    "        i = 0\n",
    "        while switches[num - 1 + i] == switches[num - 1 - i]:\n",
    "            switches = change_switch(switches, num - 1 + i)\n",
    "            switches = change_switch(switches, num - 1 - i)\n",
    "            if num - 1 - i == 0 or num - 1 + i == n_switch - 1:\n",
    "                break\n",
    "            else:\n",
    "                i += 1\n",
    "            \n",
    "\n",
    "for i in range(n_student):\n",
    "    sex, num = map(int, input().split(' '))\n",
    "    change(sex, num, switches, n_switch)\n",
    "\n",
    "count = 0\n",
    "for i in switches:\n",
    "    count += 1\n",
    "    if count % 20 != 0:\n",
    "        print(i, end=' ')\n",
    "    else:\n",
    "        print(i)\n"
   ]
  },
  {
   "cell_type": "code",
   "execution_count": 163,
   "metadata": {},
   "outputs": [
    {
     "name": "stdout",
     "output_type": "stream",
     "text": [
      "22.400000000000002\n"
     ]
    }
   ],
   "source": [
    "h, v = map(int, input().split(' '))\n",
    "\n",
    "ans = h * v\n",
    "# matrix = [[1] * (h) for _ in range(v)]\n",
    "\n",
    "def cut_horizontal(line, ans):\n",
    "    if line >= h/2:\n",
    "        ans = ans * (line / h)\n",
    "    else:\n",
    "        ans = ans * ((h - line) / h)\n",
    "    return ans\n",
    "\n",
    "def cut_vertical(line, ans):\n",
    "    if line >= v/2:\n",
    "        ans = ans * (line / v)\n",
    "    else:\n",
    "        ans = ans * ((h - line) / v)\n",
    "    return ans\n",
    "\n",
    "n = int(input())\n",
    "\n",
    "for i in range(n):\n",
    "    hv_num, line = map(int, input().split(' '))\n",
    "    \n",
    "    if hv_num == 0:\n",
    "        ans = cut_horizontal(line, ans)\n",
    "    else:\n",
    "        ans = cut_vertical(line, ans)\n",
    "\n",
    "print(ans)\n",
    "    "
   ]
  },
  {
   "cell_type": "code",
   "execution_count": 184,
   "metadata": {},
   "outputs": [
    {
     "name": "stdout",
     "output_type": "stream",
     "text": [
      "50\n"
     ]
    }
   ],
   "source": [
    "# 종이 자르기 (2628)\n",
    "\n",
    "h, v = map(int, input().split(' '))\n",
    "\n",
    "matrix = [[0] * (h) for _ in range(v)]\n",
    "\n",
    "def cut_vertical(line, matrix):\n",
    "    if line > h/2:\n",
    "        for x in range(v):\n",
    "            for y in range(line):\n",
    "                matrix[x][y] += 1\n",
    "    elif line < h/2:\n",
    "        for x in range(v):\n",
    "            for y in range(line, h):\n",
    "                matrix[x][y] += 1\n",
    "    else:\n",
    "        for x in range(v):\n",
    "            for y in range(line, h):\n",
    "                matrix[x][y] += 1\n",
    "        for x in range(v):\n",
    "            for y in range(line):\n",
    "                matrix[x][y] += 2\n",
    "    return matrix\n",
    "\n",
    "def cut_horizontal(line, matrix):\n",
    "    if line > v/2:\n",
    "        for y in range(h):\n",
    "            for x in range(line):\n",
    "                matrix[x][y] += 1\n",
    "    elif line < v/2:\n",
    "        for y in range(h):\n",
    "            for x in range(line, v):\n",
    "                matrix[x][y] += 1\n",
    "    else:\n",
    "        for y in range(h):\n",
    "            for x in range(line, v):\n",
    "                matrix[x][y] += 1\n",
    "        for y in range(h):\n",
    "            for x in range(line):\n",
    "                matrix[x][y] += 2\n",
    "\n",
    "    return matrix\n",
    "\n",
    "n = int(input())\n",
    "lowh = 0\n",
    "highh = 0\n",
    "lowv = 0\n",
    "highv = 0\n",
    "\n",
    "for i in range(n):\n",
    "    hv_num, line = map(int, input().split(' '))\n",
    "    \n",
    "    if hv_num == 0:\n",
    "        if line > v/2:\n",
    "            highv += 1\n",
    "        elif line < v/2:\n",
    "            lowv += 1\n",
    "        matrix = cut_horizontal(line, matrix)\n",
    "    else:\n",
    "        if line > h/2:\n",
    "            highh += 1\n",
    "        elif line < h/2:\n",
    "            lowh += 1\n",
    "        matrix = cut_vertical(line, matrix)\n",
    "\n",
    "ans = 0\n",
    "for x in range(v):\n",
    "    for y in range(h):\n",
    "        if matrix[x][y] == n:\n",
    "            ans += 1\n",
    "print(ans)\n",
    "    "
   ]
  },
  {
   "cell_type": "code",
   "execution_count": 172,
   "metadata": {},
   "outputs": [
    {
     "name": "stdout",
     "output_type": "stream",
     "text": [
      "[[1, 10, 3], [4, 5, 6], [7, 8, 9]]\n"
     ]
    },
    {
     "data": {
      "text/plain": [
       "0"
      ]
     },
     "execution_count": 172,
     "metadata": {},
     "output_type": "execute_result"
    }
   ],
   "source": [
    "# 종이 자르기 (2628)\n",
    "\n",
    "h, v = map(int, input().split(' '))\n",
    "\n",
    "matrix = [[0] * (h) for _ in range(v)]\n",
    "\n",
    "def cut_vertical(line, matrix):\n",
    "    if line > h/2:\n",
    "        for x in range(v):\n",
    "            for y in range(line):\n",
    "                matrix[x][y] += 1\n",
    "    elif line < h/2:\n",
    "        for x in range(v):\n",
    "            for y in range(line, h):\n",
    "                matrix[x][y] += 1\n",
    "    else:\n",
    "        for x in range(v):\n",
    "            for y in range(line, h):\n",
    "                matrix[x][y] += 1\n",
    "        for x in range(v):\n",
    "            for y in range(line):\n",
    "                matrix[x][y] += 2\n",
    "    return matrix\n",
    "\n",
    "def cut_horizontal(line, matrix):\n",
    "    if line > v/2:\n",
    "        for y in range(h):\n",
    "            for x in range(line):\n",
    "                matrix[x][y] += 1\n",
    "    elif line < v/2:\n",
    "        for y in range(h):\n",
    "            for x in range(line, v):\n",
    "                matrix[x][y] += 1\n",
    "    else:\n",
    "        for y in range(h):\n",
    "            for x in range(line, v):\n",
    "                matrix[x][y] += 1\n",
    "        for y in range(h):\n",
    "            for x in range(line):\n",
    "                matrix[x][y] += 2\n",
    "\n",
    "    return matrix\n",
    "\n",
    "n = int(input())\n",
    "lowh = 0\n",
    "highh = 0\n",
    "lowv = 0\n",
    "highv = 0\n",
    "\n",
    "for i in range(n):\n",
    "    hv_num, line = map(int, input().split(' '))\n",
    "    \n",
    "    if hv_num == 0:\n",
    "        if line > v/2:\n",
    "            highv += 1\n",
    "        elif line < v/2:\n",
    "            lowv += 1\n",
    "        matrix = cut_horizontal(line, matrix)\n",
    "    else:\n",
    "        if line > h/2:\n",
    "            highh += 1\n",
    "        elif line < h/2:\n",
    "            lowh += 1\n",
    "        matrix = cut_vertical(line, matrix)\n",
    "\n",
    "ans = 0\n",
    "for x in range(v):\n",
    "    for y in range(h):\n",
    "        if matrix[x][y] == n:\n",
    "            ans += 1\n",
    "print(ans)\n",
    "    "
   ]
  },
  {
   "cell_type": "code",
   "execution_count": 223,
   "metadata": {},
   "outputs": [
    {
     "name": "stdout",
     "output_type": "stream",
     "text": [
      "[[0, 0, 0, 0, 0, 0, 0, 0, 0, 0], [0, 0, 0, 0, 0, 0, 0, 0, 0, 0], [1, 1, 1, 1, 1, 1, 1, 1, 1, 1], [1, 1, 1, 1, 1, 1, 1, 1, 1, 1], [1, 1, 1, 1, 1, 1, 1, 1, 1, 1], [0, 0, 0, 0, 0, 0, 0, 0, 0, 0], [0, 0, 0, 0, 0, 0, 0, 0, 0, 0], [0, 0, 0, 0, 0, 0, 0, 0, 0, 0]]\n",
      "10\n"
     ]
    }
   ],
   "source": [
    "# 종이 자르기 (2628)\n",
    "import copy\n",
    "\n",
    "h, v = map(int, input().split(' '))\n",
    "\n",
    "matrix = [[1] * (h) for _ in range(v)]\n",
    "\n",
    "def cut_vertical(line, matrix):\n",
    "    if line > h/2:\n",
    "        for x in range(v):\n",
    "            for y in range(round(line), h):\n",
    "                matrix[x][y] = 0\n",
    "    elif line < h/2:\n",
    "        for x in range(v):\n",
    "            for y in range(round(line)):\n",
    "                matrix[x][y] = 0\n",
    "\n",
    "    return matrix\n",
    "\n",
    "def cut_horizontal(line, matrix):\n",
    "    if line > v/2:\n",
    "        for y in range(h):\n",
    "            for x in range(round(line), v):\n",
    "                matrix[x][y] = 0\n",
    "    elif line < v/2:\n",
    "        for y in range(h):\n",
    "            for x in range(round(line)):\n",
    "                matrix[x][y] = 0\n",
    "\n",
    "    return matrix\n",
    "\n",
    "def cut_half(matrix, hv):\n",
    "    if hv == 0:\n",
    "        temp_matrix1 = copy.deepcopy(matrix)\n",
    "        temp_matrix2 = copy.deepcopy(temp_matrix1)\n",
    "        temp_matrix1 = cut_horizontal(v/2+0.1, temp_matrix1)\n",
    "        temp_matrix2 = cut_horizontal(v/2-0.1, temp_matrix2)\n",
    "        ans1 = area(temp_matrix1)\n",
    "        ans2 = area(temp_matrix2)\n",
    "        if ans1 >= ans2:\n",
    "            matrix = cut_horizontal(v/2+0.1, matrix)\n",
    "        else:\n",
    "            matrix = cut_horizontal(v/2-0.1, matrix)\n",
    "    else:\n",
    "        temp_matrix1 = copy.deepcopy(matrix)\n",
    "        temp_matrix2 = copy.deepcopy(temp_matrix1)\n",
    "        temp_matrix1 = cut_vertical(h/2+0.1, temp_matrix1)\n",
    "        temp_matrix2 = cut_vertical(h/2-0.1, temp_matrix2)\n",
    "        ans1 = area(temp_matrix1)\n",
    "        ans2 = area(temp_matrix2)\n",
    "        if ans1 >= ans2:\n",
    "            matrix = cut_vertical(h/2+0.1, matrix)\n",
    "        else:\n",
    "            matrix = cut_vertical(h/2-0.1, matrix)\n",
    "\n",
    "    return matrix\n",
    "\n",
    "def area(matrix):\n",
    "    ans = 0\n",
    "    for x in range(v):\n",
    "        for y in range(h):\n",
    "            if matrix[x][y] == 1:\n",
    "                ans += 1\n",
    "    return ans\n",
    "\n",
    "n = int(input())\n",
    "lowh = 0\n",
    "highh = 0\n",
    "lowv = 0\n",
    "highv = 0\n",
    "half_h = 0\n",
    "half_v = 0\n",
    "for i in range(n):\n",
    "    hv_num, line = map(int, input().split(' '))\n",
    "    \n",
    "    if hv_num == 0:\n",
    "        if line > v/2:\n",
    "            highv += 1\n",
    "            matrix = cut_horizontal(line, matrix)\n",
    "        elif line < v/2:\n",
    "            lowv += 1\n",
    "            matrix = cut_horizontal(line, matrix)\n",
    "        else:\n",
    "            half_h += 1\n",
    "    else:\n",
    "        if line > h/2:\n",
    "            highh += 1\n",
    "            matrix = cut_vertical(line, matrix)\n",
    "        elif line < h/2:\n",
    "            lowh += 1\n",
    "            matrix = cut_vertical(line, matrix)\n",
    "        else:\n",
    "            half_v += 1\n",
    "\n",
    "print(matrix)\n",
    "if half_h == 1:\n",
    "    matrix = cut_half(matrix, 0)\n",
    "if half_v == 1:\n",
    "    matrix = cut_half(matrix, 1)\n",
    "\n",
    "\n",
    "print(area(matrix))\n",
    "    "
   ]
  },
  {
   "cell_type": "code",
   "execution_count": 175,
   "metadata": {},
   "outputs": [
    {
     "data": {
      "text/plain": [
       "[[0, 0, 0, 0, 0], [0, 0, 0, 0, 0]]"
      ]
     },
     "execution_count": 175,
     "metadata": {},
     "output_type": "execute_result"
    }
   ],
   "source": [
    "h, v = map(int, input().split(' '))\n",
    "\n",
    "matrix = [[0] * (h) for _ in range(v)]\n",
    "matrix"
   ]
  },
  {
   "cell_type": "code",
   "execution_count": 205,
   "metadata": {},
   "outputs": [
    {
     "data": {
      "text/plain": [
       "4"
      ]
     },
     "execution_count": 205,
     "metadata": {},
     "output_type": "execute_result"
    }
   ],
   "source": [
    "round(3.9)"
   ]
  }
 ],
 "metadata": {
  "kernelspec": {
   "display_name": "base",
   "language": "python",
   "name": "python3"
  },
  "language_info": {
   "codemirror_mode": {
    "name": "ipython",
    "version": 3
   },
   "file_extension": ".py",
   "mimetype": "text/x-python",
   "name": "python",
   "nbconvert_exporter": "python",
   "pygments_lexer": "ipython3",
   "version": "3.8.15 (default, Nov 24 2022, 14:38:14) [MSC v.1916 64 bit (AMD64)]"
  },
  "orig_nbformat": 4,
  "vscode": {
   "interpreter": {
    "hash": "92b2e5e3db71d25dcfde251f04ae4e1d6e54d904f4413217ff3508985148b94f"
   }
  }
 },
 "nbformat": 4,
 "nbformat_minor": 2
}
