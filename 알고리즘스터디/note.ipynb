{
 "cells": [
  {
   "cell_type": "code",
   "execution_count": 12,
   "metadata": {},
   "outputs": [
    {
     "data": {
      "text/plain": [
       "[1, 1, 1, 0, 4, 1, 5, 1]"
      ]
     },
     "execution_count": 12,
     "metadata": {},
     "output_type": "execute_result"
    }
   ],
   "source": [
    "a = [1,1,1,4,1,5,1]\n",
    "a.insert(3, 0)\n",
    "a"
   ]
  },
  {
   "cell_type": "code",
   "execution_count": 10,
   "metadata": {},
   "outputs": [
    {
     "data": {
      "text/plain": [
       "[0, 1, 2, 3, 4, 5, 6, 7, 8, 9]"
      ]
     },
     "execution_count": 10,
     "metadata": {},
     "output_type": "execute_result"
    }
   ],
   "source": [
    "a = [x for x in range(10)]\n",
    "a"
   ]
  },
  {
   "cell_type": "code",
   "execution_count": 2,
   "metadata": {},
   "outputs": [
    {
     "data": {
      "text/plain": [
       "[5, 4, 3, 2, 1]"
      ]
     },
     "execution_count": 2,
     "metadata": {},
     "output_type": "execute_result"
    }
   ],
   "source": [
    "a = [x for x in range(5,0,-1)]\n",
    "a"
   ]
  },
  {
   "cell_type": "code",
   "execution_count": null,
   "metadata": {},
   "outputs": [],
   "source": [
    "for i in range(3):\n",
    "    print(i)\n",
    "    for a in range(5):\n",
    "        print(a)\n",
    "        if a == 3:\n",
    "            break"
   ]
  },
  {
   "cell_type": "code",
   "execution_count": 4,
   "metadata": {},
   "outputs": [
    {
     "name": "stdout",
     "output_type": "stream",
     "text": [
      "{1, 2, 3, 4, 7}\n",
      "[1, 2, 3, 4, 7]\n"
     ]
    }
   ],
   "source": [
    "a = [3,4,3,1,3,1,2,7,2]\n",
    "print(set(a))\n",
    "print(list(set(a)))\n"
   ]
  },
  {
   "cell_type": "code",
   "execution_count": 6,
   "metadata": {},
   "outputs": [
    {
     "ename": "ValueError",
     "evalue": "(0, 1, 0) is not in list",
     "output_type": "error",
     "traceback": [
      "\u001b[1;31m---------------------------------------------------------------------------\u001b[0m",
      "\u001b[1;31mValueError\u001b[0m                                Traceback (most recent call last)",
      "Cell \u001b[1;32mIn[6], line 3\u001b[0m\n\u001b[0;32m      1\u001b[0m a \u001b[39m=\u001b[39m [(\u001b[39m1\u001b[39m, \u001b[39m2\u001b[39m, \u001b[39m0\u001b[39m, \u001b[39m1\u001b[39m), (\u001b[39m0\u001b[39m, \u001b[39m1\u001b[39m, \u001b[39m0\u001b[39m, \u001b[39m3\u001b[39m), (\u001b[39m0\u001b[39m, \u001b[39m1\u001b[39m, \u001b[39m0\u001b[39m, \u001b[39m2\u001b[39m), (\u001b[39m0\u001b[39m, \u001b[39m0\u001b[39m, \u001b[39m1\u001b[39m, \u001b[39m4\u001b[39m)]\n\u001b[0;32m      2\u001b[0m b \u001b[39m=\u001b[39m a[\u001b[39m1\u001b[39m][:\u001b[39m3\u001b[39m]\n\u001b[1;32m----> 3\u001b[0m a\u001b[39m.\u001b[39;49mindex(b)\n",
      "\u001b[1;31mValueError\u001b[0m: (0, 1, 0) is not in list"
     ]
    }
   ],
   "source": [
    "a = [(1, 2, 0, 1), (0, 1, 0, 3), (0, 1, 0, 2), (0, 0, 1, 4)]\n",
    "b = a[1][:3]\n",
    "a.index(b)"
   ]
  },
  {
   "cell_type": "code",
   "execution_count": 13,
   "metadata": {},
   "outputs": [
    {
     "ename": "SyntaxError",
     "evalue": "invalid syntax (2469713443.py, line 2)",
     "output_type": "error",
     "traceback": [
      "\u001b[1;36m  Cell \u001b[1;32mIn[13], line 2\u001b[1;36m\u001b[0m\n\u001b[1;33m    a.index((,,,1))\u001b[0m\n\u001b[1;37m             ^\u001b[0m\n\u001b[1;31mSyntaxError\u001b[0m\u001b[1;31m:\u001b[0m invalid syntax\n"
     ]
    }
   ],
   "source": [
    "a = [(1, 2, 0, 1), (0, 1, 0, 3), (0, 1, 0, 2), (0, 0, 1, 4)]\n",
    "a.index((*,*,*,1))\n"
   ]
  },
  {
   "cell_type": "code",
   "execution_count": 14,
   "metadata": {},
   "outputs": [
    {
     "data": {
      "text/plain": [
       "121.5"
      ]
     },
     "execution_count": 14,
     "metadata": {},
     "output_type": "execute_result"
    }
   ],
   "source": [
    "9 * 9 * 9 / 6"
   ]
  },
  {
   "cell_type": "code",
   "execution_count": 97,
   "metadata": {},
   "outputs": [
    {
     "name": "stdout",
     "output_type": "stream",
     "text": [
      "494\n",
      "494\n",
      "494\n",
      "495\n"
     ]
    }
   ],
   "source": [
    "number = sorted(list(map(int, input().split(' '))))\n",
    "\n",
    "def sum_from_one(num):\n",
    "    sum = 0\n",
    "    for i in range(num+1):\n",
    "        sum += i\n",
    "    return sum\n",
    "\n",
    "# [1,1,1,1]\n",
    "# [3,4,6,8]\n",
    "# 1, 9~1\n",
    "# 2, 8~1\n",
    "# 3, 7~1\n",
    "# 4, 6~5\n",
    "# 5, 5~4\n",
    "# 8, 2~1\n",
    "# 9, 1~1\n",
    "\n",
    "ans = 0\n",
    "\n",
    "first = number[0]\n",
    "for i in range(1, first):\n",
    "    for a in range(i, 10):\n",
    "        ans += sum_from_one(10 - a)\n",
    "print(ans)\n",
    "second = number[1]\n",
    "for i in range(first, second):\n",
    "    ans += sum_from_one(10 - i)\n",
    "print(ans)\n",
    "third = number[2]\n",
    "for i in range(second, third):\n",
    "    ans += 10 - i\n",
    "print(ans)\n",
    "fourth = number[3]\n",
    "ans += fourth - third + 1\n",
    "\n",
    "# if (first, second, third) == (1, 1, 1):\n",
    "#     ans += 1\n",
    "\n",
    "print(ans)"
   ]
  },
  {
   "cell_type": "code",
   "execution_count": null,
   "metadata": {},
   "outputs": [],
   "source": [
    "f, s, t, four = sorted(list(map(int, input().split(' '))))\n",
    "\n",
    "for i in range(1111, f*1000 + s*100 + t*10 + four + 1):\n",
    "    \n"
   ]
  },
  {
   "cell_type": "code",
   "execution_count": 114,
   "metadata": {},
   "outputs": [
    {
     "name": "stdout",
     "output_type": "stream",
     "text": [
      "495\n"
     ]
    }
   ],
   "source": [
    "number = list(map(int, input().split(' ')))\n",
    "\n",
    "ans = 0\n",
    "# clock_number = [9, 9, 9, 9]\n",
    "\n",
    "# for i in range(4):\n",
    "#     temp_list = [number[0 - i], number[1 - i], number[2 - i], number[3 - i]]\n",
    "#     if temp_list <= clock_number:\n",
    "#         clock_number = temp_list \n",
    "temp1 = [number[0], number[1], number[2], number[3]]\n",
    "temp2 = [number[1], number[2], number[3], number[0]]\n",
    "temp3 = [number[2], number[3], number[0], number[1]]\n",
    "temp4 = [number[3], number[0], number[1], number[2]]\n",
    "clock_number = min(temp1, temp2, temp3, temp4)\n",
    "\n",
    "for a in range(1, clock_number[0]):\n",
    "    for b in range(a, 10):\n",
    "        for c in range(b, 10):\n",
    "            for d in range(c,10):\n",
    "                ans += 1\n",
    "\n",
    "for b in range(clock_number[0], clock_number[1]):\n",
    "    for c in range(b, 10):\n",
    "        for d in range(c,10):\n",
    "            ans += 1\n",
    "\n",
    "for c in range(clock_number[1], clock_number[2]):\n",
    "    for d in range(c,10):\n",
    "         ans += 1\n",
    "\n",
    "for d in range(clock_number[2], clock_number[3] + 1):\n",
    "    ans += 1\n",
    "\n",
    "print(ans)"
   ]
  },
  {
   "cell_type": "code",
   "execution_count": null,
   "metadata": {},
   "outputs": [],
   "source": [
    "n = int(input())\n",
    "\n",
    "count = 1\n",
    "clock = 0\n",
    "\n",
    "for i in range(n):\n",
    "    a, b, c = map(int, input().split())\n",
    "\n",
    "    count = count * b / a\n",
    "    if c:\n",
    "        clock = not clock\n",
    "\n",
    "print(int(clock), int(count))"
   ]
  },
  {
   "cell_type": "code",
   "execution_count": 133,
   "metadata": {},
   "outputs": [
    {
     "data": {
      "text/plain": [
       "{(1, 1), (2, 3)}"
      ]
     },
     "execution_count": 133,
     "metadata": {},
     "output_type": "execute_result"
    }
   ],
   "source": [
    "a = [(1,1),(2,3)]\n",
    "set(a)"
   ]
  },
  {
   "cell_type": "code",
   "execution_count": 147,
   "metadata": {},
   "outputs": [
    {
     "name": "stdout",
     "output_type": "stream",
     "text": [
      "4\n"
     ]
    }
   ],
   "source": [
    "n = int(input())\n",
    "\n",
    "ans = 0\n",
    "for i in range(1, int(n/3)+1):\n",
    "    for a in range(i, int((n-i)/2)+1):\n",
    "        if i + a >= n - i - a:\n",
    "            ans += 1\n",
    "if n == 4:\n",
    "    ans = 0\n",
    "print(ans) \n"
   ]
  },
  {
   "cell_type": "code",
   "execution_count": 148,
   "metadata": {},
   "outputs": [
    {
     "name": "stdout",
     "output_type": "stream",
     "text": [
      "1\n"
     ]
    }
   ],
   "source": [
    "n = int(input())\n",
    "\n",
    "ans = 0\n",
    "for i in range(1, int(n/3)+1):\n",
    "    b = n - 2*i\n",
    "    for a in range(int(n/3), int(b/2)+1):\n",
    "        ans += 1\n",
    "\n",
    "print(ans)"
   ]
  },
  {
   "cell_type": "code",
   "execution_count": 151,
   "metadata": {},
   "outputs": [
    {
     "data": {
      "text/plain": [
       "2"
      ]
     },
     "execution_count": 151,
     "metadata": {},
     "output_type": "execute_result"
    }
   ],
   "source": [
    "a = \"abcqad\"\n",
    "# for i in range(len(a)):\n",
    "#     print(a[i])\n",
    "a.count(\"a\")"
   ]
  },
  {
   "cell_type": "code",
   "execution_count": 152,
   "metadata": {},
   "outputs": [
    {
     "data": {
      "text/plain": [
       "[1, 2, 3]"
      ]
     },
     "execution_count": 152,
     "metadata": {},
     "output_type": "execute_result"
    }
   ],
   "source": [
    "a = [1,2,3,4]\n",
    "a[0:3]"
   ]
  },
  {
   "cell_type": "code",
   "execution_count": 155,
   "metadata": {},
   "outputs": [
    {
     "name": "stdout",
     "output_type": "stream",
     "text": [
      "1\n",
      "1\n",
      "1\n",
      "1\n",
      "5\n",
      "17\n",
      "24\n",
      "34\n",
      "35\n",
      "35\n"
     ]
    }
   ],
   "source": [
    "n, k = map(int, input().split())\n",
    "temperatures = list(map(int, input().split()))\n",
    "\n",
    "ans_index = k-1\n",
    "ans = sum(temperatures[ans_index-k+1:ans_index+1])\n",
    "print(ans)\n",
    "if k == 1:\n",
    "    ans = max(temperatures)\n",
    "else:\n",
    "    for i in range(k, n):\n",
    "        temp_ans = ans - temperatures[i-k] + temperatures[i]\n",
    "        print(ans)\n",
    "        if temp_ans > ans:\n",
    "            ans = temp_ans\n",
    "\n",
    "\n",
    "# ans_list = []\n",
    "# for i in range(k-1, n):\n",
    "#     ans_list.append(sum(temperatures[i-k+1:i]))\n",
    "\n",
    "print(ans)"
   ]
  },
  {
   "cell_type": "code",
   "execution_count": 185,
   "metadata": {},
   "outputs": [
    {
     "name": "stdout",
     "output_type": "stream",
     "text": [
      "1\n"
     ]
    }
   ],
   "source": [
    "n = int(input())\n",
    "\n",
    "ans = 0\n",
    "\n",
    "# for a in range(1, int(n/3) + 1):\n",
    "#     for b in range(a, int((n - a)/2)+1):\n",
    "#         c = n - a - b\n",
    "#         if a + b > c:\n",
    "#             ans += 1\n",
    "if n/2 == int(n/2):\n",
    "    long = int(n/2 - 1)\n",
    "else:\n",
    "    long = int(n/2)\n",
    "\n",
    "for i in range(int(n/3), long+1):\n",
    "    for a in range(int(n-i), i+1):\n",
    "        ans += 1\n",
    "\n",
    "if n == 4 or n == 2 or n == 1:\n",
    "    ans = 0\n",
    "print(ans)"
   ]
  },
  {
   "cell_type": "code",
   "execution_count": 171,
   "metadata": {},
   "outputs": [
    {
     "data": {
      "text/plain": [
       "4"
      ]
     },
     "execution_count": 171,
     "metadata": {},
     "output_type": "execute_result"
    }
   ],
   "source": [
    "round(4.5)"
   ]
  },
  {
   "cell_type": "code",
   "execution_count": 129,
   "metadata": {},
   "outputs": [
    {
     "name": "stdout",
     "output_type": "stream",
     "text": [
      "102\n"
     ]
    }
   ],
   "source": [
    "number = list(map(int, input().split(' ')))\n",
    "\n",
    "ans = 0\n",
    "\n",
    "temp1 = [number[0], number[1], number[2], number[3]]\n",
    "temp2 = [number[1], number[2], number[3], number[0]]\n",
    "temp3 = [number[2], number[3], number[0], number[1]]\n",
    "temp4 = [number[3], number[0], number[1], number[2]]\n",
    "clock_number = min(temp1, temp2, temp3, temp4)\n",
    "\n",
    "def check_clock(number):\n",
    "    clock = 0\n",
    "    a = number // 1000\n",
    "    b = (number // 100) % 10\n",
    "    c = (number // 10) % 10\n",
    "    d = number % 10\n",
    "    numbers = [a, b, c, d]\n",
    "    temp1 = [numbers[0], numbers[1], numbers[2], numbers[3]]\n",
    "    temp2 = [numbers[1], numbers[2], numbers[3], numbers[0]]\n",
    "    temp3 = [numbers[2], numbers[3], numbers[0], numbers[1]]\n",
    "    temp4 = [numbers[3], numbers[0], numbers[1], numbers[2]]\n",
    "    clock_number = min(temp1, temp2, temp3, temp4)\n",
    "    if numbers == clock_number:\n",
    "        clock = 1\n",
    "    return clock\n",
    "        \n",
    "\n",
    "for i in range(1111, clock_number[0]*1000 + clock_number[1]*100 + clock_number[2]*10 + clock_number[3] + 1):\n",
    "    if check_clock(i):\n",
    "        ans += 1\n",
    "\n",
    "print(ans)"
   ]
  },
  {
   "cell_type": "code",
   "execution_count": 122,
   "metadata": {},
   "outputs": [
    {
     "data": {
      "text/plain": [
       "1"
      ]
     },
     "execution_count": 122,
     "metadata": {},
     "output_type": "execute_result"
    }
   ],
   "source": [
    "def check_clock(number):\n",
    "    clock = 0\n",
    "    a = number // 1000\n",
    "    b = (number // 100) % 10\n",
    "    c = (number // 10) % 10\n",
    "    d = number % 10\n",
    "    if a <= b <= c <= d:\n",
    "        clock = 1\n",
    "    return clock\n",
    "check_clock(1111)"
   ]
  },
  {
   "cell_type": "code",
   "execution_count": 116,
   "metadata": {},
   "outputs": [
    {
     "ename": "TypeError",
     "evalue": "'int' object is not iterable",
     "output_type": "error",
     "traceback": [
      "\u001b[1;31m---------------------------------------------------------------------------\u001b[0m",
      "\u001b[1;31mTypeError\u001b[0m                                 Traceback (most recent call last)",
      "Cell \u001b[1;32mIn[116], line 2\u001b[0m\n\u001b[0;32m      1\u001b[0m a \u001b[39m=\u001b[39m \u001b[39m1234\u001b[39m\n\u001b[1;32m----> 2\u001b[0m \u001b[39mlist\u001b[39;49m(a)\n",
      "\u001b[1;31mTypeError\u001b[0m: 'int' object is not iterable"
     ]
    }
   ],
   "source": [
    "a = 1234\n"
   ]
  },
  {
   "cell_type": "code",
   "execution_count": 99,
   "metadata": {},
   "outputs": [
    {
     "data": {
      "text/plain": [
       "False"
      ]
     },
     "execution_count": 99,
     "metadata": {},
     "output_type": "execute_result"
    }
   ],
   "source": [
    "[1,2,4,4] < [1,2,3,5]"
   ]
  },
  {
   "cell_type": "code",
   "execution_count": null,
   "metadata": {},
   "outputs": [],
   "source": [
    "a = 1234\n"
   ]
  },
  {
   "cell_type": "code",
   "execution_count": 51,
   "metadata": {},
   "outputs": [
    {
     "data": {
      "text/plain": [
       "165"
      ]
     },
     "execution_count": 51,
     "metadata": {},
     "output_type": "execute_result"
    }
   ],
   "source": [
    "\n",
    "a = 0\n",
    "for i in range(10):\n",
    "    a += sum_from_one(i)\n",
    "a\n"
   ]
  }
 ],
 "metadata": {
  "kernelspec": {
   "display_name": "base",
   "language": "python",
   "name": "python3"
  },
  "language_info": {
   "codemirror_mode": {
    "name": "ipython",
    "version": 3
   },
   "file_extension": ".py",
   "mimetype": "text/x-python",
   "name": "python",
   "nbconvert_exporter": "python",
   "pygments_lexer": "ipython3",
   "version": "3.8.15"
  },
  "orig_nbformat": 4,
  "vscode": {
   "interpreter": {
    "hash": "92b2e5e3db71d25dcfde251f04ae4e1d6e54d904f4413217ff3508985148b94f"
   }
  }
 },
 "nbformat": 4,
 "nbformat_minor": 2
}
