{
 "cells": [
  {
   "cell_type": "code",
   "execution_count": 12,
   "metadata": {},
   "outputs": [
    {
     "data": {
      "text/plain": [
       "[1, 1, 1, 0, 4, 1, 5, 1]"
      ]
     },
     "execution_count": 12,
     "metadata": {},
     "output_type": "execute_result"
    }
   ],
   "source": [
    "a = [1,1,1,4,1,5,1]\n",
    "a.insert(3, 0)\n",
    "a"
   ]
  },
  {
   "cell_type": "code",
   "execution_count": 10,
   "metadata": {},
   "outputs": [
    {
     "data": {
      "text/plain": [
       "[0, 1, 2, 3, 4, 5, 6, 7, 8, 9]"
      ]
     },
     "execution_count": 10,
     "metadata": {},
     "output_type": "execute_result"
    }
   ],
   "source": [
    "a = [x for x in range(10)]\n",
    "a"
   ]
  },
  {
   "cell_type": "code",
   "execution_count": 2,
   "metadata": {},
   "outputs": [
    {
     "data": {
      "text/plain": [
       "[5, 4, 3, 2, 1]"
      ]
     },
     "execution_count": 2,
     "metadata": {},
     "output_type": "execute_result"
    }
   ],
   "source": [
    "a = [x for x in range(5,0,-1)]\n",
    "a"
   ]
  },
  {
   "cell_type": "code",
   "execution_count": null,
   "metadata": {},
   "outputs": [],
   "source": [
    "for i in range(3):\n",
    "    print(i)\n",
    "    for a in range(5):\n",
    "        print(a)\n",
    "        if a == 3:\n",
    "            break"
   ]
  },
  {
   "cell_type": "code",
   "execution_count": 4,
   "metadata": {},
   "outputs": [
    {
     "name": "stdout",
     "output_type": "stream",
     "text": [
      "{1, 2, 3, 4, 7}\n",
      "[1, 2, 3, 4, 7]\n"
     ]
    }
   ],
   "source": [
    "a = [3,4,3,1,3,1,2,7,2]\n",
    "print(set(a))\n",
    "print(list(set(a)))\n"
   ]
  },
  {
   "cell_type": "code",
   "execution_count": 6,
   "metadata": {},
   "outputs": [
    {
     "ename": "ValueError",
     "evalue": "(0, 1, 0) is not in list",
     "output_type": "error",
     "traceback": [
      "\u001b[1;31m---------------------------------------------------------------------------\u001b[0m",
      "\u001b[1;31mValueError\u001b[0m                                Traceback (most recent call last)",
      "Cell \u001b[1;32mIn[6], line 3\u001b[0m\n\u001b[0;32m      1\u001b[0m a \u001b[39m=\u001b[39m [(\u001b[39m1\u001b[39m, \u001b[39m2\u001b[39m, \u001b[39m0\u001b[39m, \u001b[39m1\u001b[39m), (\u001b[39m0\u001b[39m, \u001b[39m1\u001b[39m, \u001b[39m0\u001b[39m, \u001b[39m3\u001b[39m), (\u001b[39m0\u001b[39m, \u001b[39m1\u001b[39m, \u001b[39m0\u001b[39m, \u001b[39m2\u001b[39m), (\u001b[39m0\u001b[39m, \u001b[39m0\u001b[39m, \u001b[39m1\u001b[39m, \u001b[39m4\u001b[39m)]\n\u001b[0;32m      2\u001b[0m b \u001b[39m=\u001b[39m a[\u001b[39m1\u001b[39m][:\u001b[39m3\u001b[39m]\n\u001b[1;32m----> 3\u001b[0m a\u001b[39m.\u001b[39;49mindex(b)\n",
      "\u001b[1;31mValueError\u001b[0m: (0, 1, 0) is not in list"
     ]
    }
   ],
   "source": [
    "a = [(1, 2, 0, 1), (0, 1, 0, 3), (0, 1, 0, 2), (0, 0, 1, 4)]\n",
    "b = a[1][:3]\n",
    "a.index(b)"
   ]
  },
  {
   "cell_type": "code",
   "execution_count": 13,
   "metadata": {},
   "outputs": [
    {
     "ename": "SyntaxError",
     "evalue": "invalid syntax (2469713443.py, line 2)",
     "output_type": "error",
     "traceback": [
      "\u001b[1;36m  Cell \u001b[1;32mIn[13], line 2\u001b[1;36m\u001b[0m\n\u001b[1;33m    a.index((,,,1))\u001b[0m\n\u001b[1;37m             ^\u001b[0m\n\u001b[1;31mSyntaxError\u001b[0m\u001b[1;31m:\u001b[0m invalid syntax\n"
     ]
    }
   ],
   "source": [
    "a = [(1, 2, 0, 1), (0, 1, 0, 3), (0, 1, 0, 2), (0, 0, 1, 4)]\n",
    "a.index((*,*,*,1))\n"
   ]
  },
  {
   "cell_type": "code",
   "execution_count": 14,
   "metadata": {},
   "outputs": [
    {
     "data": {
      "text/plain": [
       "121.5"
      ]
     },
     "execution_count": 14,
     "metadata": {},
     "output_type": "execute_result"
    }
   ],
   "source": [
    "9 * 9 * 9 / 6"
   ]
  },
  {
   "cell_type": "code",
   "execution_count": 25,
   "metadata": {},
   "outputs": [
    {
     "name": "stdout",
     "output_type": "stream",
     "text": [
      "4\n"
     ]
    }
   ],
   "source": [
    "number = sorted(list(map(int, input().split(' '))))\n",
    "\n",
    "def sum_from_one(num):\n",
    "    sum = 0\n",
    "    for i in range(num+1):\n",
    "        sum += i\n",
    "    return sum\n",
    "\n",
    "# [1,1,1,1]\n",
    "# [3,4,6,8]\n",
    "# 1, 9~1\n",
    "# 2, 8~1\n",
    "# 3, 7~1\n",
    "# 4, 6~5\n",
    "# 5, 5~4\n",
    "# 8, 2~1\n",
    "# 9, 1~1\n",
    "\n",
    "ans = 0\n",
    "\n",
    "first = number[0]\n",
    "for i in range(1, first):\n",
    "    for a in range(1, 10 - i):\n",
    "        ans += sum_from_one(a)\n",
    "\n",
    "second = number[1]\n",
    "for i in range(1, second):\n",
    "    ans += sum_from_one(i)\n",
    "\n",
    "third = number[2]\n",
    "for i in range(1, third):\n",
    "    ans += 10 - i\n",
    "\n",
    "fourth = number[3]\n",
    "ans += fourth - third + 1\n",
    "\n",
    "# if (first, second, third) == (1, 1, 1):\n",
    "#     ans += 1\n",
    "\n",
    "print(ans)"
   ]
  }
 ],
 "metadata": {
  "kernelspec": {
   "display_name": "base",
   "language": "python",
   "name": "python3"
  },
  "language_info": {
   "codemirror_mode": {
    "name": "ipython",
    "version": 3
   },
   "file_extension": ".py",
   "mimetype": "text/x-python",
   "name": "python",
   "nbconvert_exporter": "python",
   "pygments_lexer": "ipython3",
   "version": "3.8.15"
  },
  "orig_nbformat": 4,
  "vscode": {
   "interpreter": {
    "hash": "92b2e5e3db71d25dcfde251f04ae4e1d6e54d904f4413217ff3508985148b94f"
   }
  }
 },
 "nbformat": 4,
 "nbformat_minor": 2
}
